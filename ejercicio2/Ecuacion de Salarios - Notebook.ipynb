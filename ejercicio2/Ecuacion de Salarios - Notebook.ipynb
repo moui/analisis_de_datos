{
 "cells": [
  {
   "cell_type": "markdown",
   "metadata": {},
   "source": [
    "# Analisis de Datos en Administracion\n",
    "### Facultad de Ciencias Economicas y Administracion - Universidad de la Republica\n",
    "\n",
    "# Regresion Lineal\n",
    "## Ejercicio 2"
   ]
  },
  {
   "cell_type": "markdown",
   "metadata": {},
   "source": [
    "En el archivo ”data-eq-salarios.gdt” se cuenta con una submuestra de 1898 observaciones extraidas al azar de la Encuesta Continua de Hogares realizada por el INE en el 2005. La submuestra esta compuesta por individuos entre 18 y 65 anos de los departamentos de Montevideo, Colonia y Rivera. Las variables que estan presentes en la base de datos son las siguientes:\n",
    "- edad: en anos.\n",
    "- hombre: 1 si es hombre y 0 si es mujer.\n",
    "- educ: anos educacion alcanzado.\n",
    "- salario: ingreso por hora en la ocupacion principal, en pesos corrientes.\n",
    "- mvdeo: 1 si vive en el departamento de Montevideo, 0 en otro lado.\n",
    "- colonia: 1 si vive en el departamento de Colonia, 0 en otro lado.\n",
    "- rivera: 1 si vive en el departamento de Rivera, 0 en otro lado.\n",
    "\n",
    "### Se pide:\n",
    "\n",
    "1. Estime por MCO un modelo lineal del salario en funcion de la educacion, la edad, las variables binarias hombre, colonia y rivera. Interprete los coeficientes (sin hacer inferencia).\n",
    "2. Estime por MCO un modelo del logaritmo del salario en funcion de la educacion, la edad y su cuadrado, las variables binarias hombre, colonia y rivera. Interprete los coeficientes (sin hacer inferencia).\n",
    "3. Evalue la presencia de heterocedasticidad general mediante el test de White. Tome alguna decision en funcion de los resultados obtenidos y justifiquela.\n",
    "4. Una vez que tenga definida las estimaciones a utilizar, interprete economicamente los efectos parciales de:\n",
    "    a. Las variables continuas (en el caso de la variable edad considere tres casos con personas de 25, 35 y 45 anos).\n",
    "    b. Las variables discretas, prestando atencion a la categoria omitida.\n",
    "5. Evalue las siguientes hipotesis:\n",
    "    a. Ninguna variable del modelo es relevante.\n",
    "    b. Los salarios tienen una relacion lineal con la edad.\n",
    "    c. La edad no es relevante.\n",
    "    d. No hay brechas regionales de salarios."
   ]
  },
  {
   "cell_type": "code",
   "execution_count": 3,
   "metadata": {},
   "outputs": [],
   "source": [
    "# Tratamiento de datos\n",
    "# ==============================================================================\n",
    "import pandas as pd\n",
    "\n",
    "# Preprocesado y modelado\n",
    "# ==============================================================================\n",
    "import statsmodels.api as sm\n",
    "import statsmodels.formula.api as smf\n",
    "import numpy as np\n",
    "from statsmodels.stats.diagnostic import het_white"
   ]
  },
  {
   "cell_type": "code",
   "execution_count": 4,
   "metadata": {},
   "outputs": [
    {
     "name": "stdout",
     "output_type": "stream",
     "text": [
      "      salario  educ  edad  hombre  mujer  mvdeo  colonia  rivera\n",
      "0  299.123871    15    54       1      0      1        1       0\n",
      "1   72.501915    15    48       0      1      1        1       0\n",
      "2  332.518158    17    54       0      1      1        1       0\n",
      "3    3.068561     2    53       1      0      1        1       0\n",
      "4   90.436699    16    59       0      1      1        1       0\n"
     ]
    }
   ],
   "source": [
    "# Datos\n",
    "# ==============================================================================\n",
    "\n",
    "df = pd.read_csv('data-eq-salarios.csv')\n",
    "print(df.head())"
   ]
  },
  {
   "cell_type": "code",
   "execution_count": 5,
   "metadata": {},
   "outputs": [
    {
     "name": "stdout",
     "output_type": "stream",
     "text": [
      "                            OLS Regression Results                            \n",
      "==============================================================================\n",
      "Dep. Variable:                salario   R-squared:                       0.193\n",
      "Model:                            OLS   Adj. R-squared:                  0.191\n",
      "Method:                 Least Squares   F-statistic:                     90.77\n",
      "Date:                Mon, 26 Sep 2022   Prob (F-statistic):           8.73e-86\n",
      "Time:                        18:20:13   Log-Likelihood:                -10718.\n",
      "No. Observations:                1898   AIC:                         2.145e+04\n",
      "Df Residuals:                    1892   BIC:                         2.148e+04\n",
      "Df Model:                           5                                         \n",
      "Covariance Type:            nonrobust                                         \n",
      "==============================================================================\n",
      "                 coef    std err          t      P>|t|      [0.025      0.975]\n",
      "------------------------------------------------------------------------------\n",
      "const        -99.0143     11.497     -8.612      0.000    -121.562     -76.467\n",
      "educ           7.6514      0.390     19.615      0.000       6.886       8.416\n",
      "edad           1.3920      0.146      9.512      0.000       1.105       1.679\n",
      "hombre        20.7917      3.203      6.491      0.000      14.510      27.073\n",
      "colonia        4.1331      8.286      0.499      0.618     -12.118      20.384\n",
      "rivera        -6.6258     11.577     -0.572      0.567     -29.331      16.079\n",
      "==============================================================================\n",
      "Omnibus:                     2541.293   Durbin-Watson:                   2.035\n",
      "Prob(Omnibus):                  0.000   Jarque-Bera (JB):           766851.516\n",
      "Skew:                           7.251   Prob(JB):                         0.00\n",
      "Kurtosis:                     100.398   Cond. No.                         454.\n",
      "==============================================================================\n",
      "\n",
      "Notes:\n",
      "[1] Standard Errors assume that the covariance matrix of the errors is correctly specified.\n"
     ]
    }
   ],
   "source": [
    "# División de los datos para estimar por minimos cuadrados el modelo lineal del salario en \n",
    "# funcion de la educación, la edad y las variables hombre, colonia y rivera\n",
    "# ==============================================================================\n",
    "\n",
    "X = df[['educ', 'edad', 'hombre', 'colonia', 'rivera']]\n",
    "y = df['salario']\n",
    "\n",
    "# Creación del modelo utilizando matrices como en scikitlearn\n",
    "# ==============================================================================\n",
    "# A la matriz de predictores se le tiene que añadir una columna de 1s para el intercept del modelo\n",
    "\n",
    "X = sm.add_constant(X)\n",
    "modelo = sm.OLS(y, X)\n",
    "modelo = modelo.fit()\n",
    "print(modelo.summary())"
   ]
  },
  {
   "cell_type": "markdown",
   "metadata": {},
   "source": [
    "1. Interpretacion de los coeficientes: \n",
    "- Sobre la educacion podemos decir que por cada año mas de educacion que se tenga, el salario aumenta en promedio 7.65 pesos por hora, ceteris paribus.\n",
    "- Sobre la edad, podemos decir que por cada año mas que se tenga, el salario aumenta en promedio 1.4 pesos por hora, ceteris paribus.\n",
    "- Sobre la variable hombre, podemos decir que si es hombre, el salario por hora es en promedio 20.7 pesos mayor, ceteris paribus.\n",
    "- Sobre la variable colonia, podemos decir que si vive en Colonia, el salario por hora es en promedio 4.13 pesos mayor, ceteris paribus.\n",
    "- Sobre la variable rivera, podemos decir que si vive en Rivera, el salario por hora es en promedio 6.6 pesos menor, ceteris paribus."
   ]
  },
  {
   "cell_type": "code",
   "execution_count": 6,
   "metadata": {},
   "outputs": [
    {
     "name": "stdout",
     "output_type": "stream",
     "text": [
      "                            OLS Regression Results                            \n",
      "==============================================================================\n",
      "Dep. Variable:            log_salario   R-squared:                       0.329\n",
      "Model:                            OLS   Adj. R-squared:                  0.327\n",
      "Method:                 Least Squares   F-statistic:                     154.5\n",
      "Date:                Mon, 26 Sep 2022   Prob (F-statistic):          7.02e-160\n",
      "Time:                        18:20:16   Log-Likelihood:                -1985.3\n",
      "No. Observations:                1898   AIC:                             3985.\n",
      "Df Residuals:                    1891   BIC:                             4023.\n",
      "Df Model:                           6                                         \n",
      "Covariance Type:            nonrobust                                         \n",
      "==============================================================================\n",
      "                 coef    std err          t      P>|t|      [0.025      0.975]\n",
      "------------------------------------------------------------------------------\n",
      "const          0.5774      0.267      2.159      0.031       0.053       1.102\n",
      "educ           0.1102      0.004     27.983      0.000       0.102       0.118\n",
      "edad           0.0660      0.012      5.514      0.000       0.043       0.090\n",
      "sq_edad       -0.0006      0.000     -4.192      0.000      -0.001      -0.000\n",
      "hombre         0.2507      0.032      7.786      0.000       0.188       0.314\n",
      "colonia        0.0885      0.083      1.063      0.288      -0.075       0.252\n",
      "rivera        -0.1359      0.116     -1.168      0.243      -0.364       0.092\n",
      "==============================================================================\n",
      "Omnibus:                       31.072   Durbin-Watson:                   2.042\n",
      "Prob(Omnibus):                  0.000   Jarque-Bera (JB):               57.685\n",
      "Skew:                          -0.042   Prob(JB):                     2.98e-13\n",
      "Kurtosis:                       3.850   Cond. No.                     3.74e+04\n",
      "==============================================================================\n",
      "\n",
      "Notes:\n",
      "[1] Standard Errors assume that the covariance matrix of the errors is correctly specified.\n",
      "[2] The condition number is large, 3.74e+04. This might indicate that there are\n",
      "strong multicollinearity or other numerical problems.\n"
     ]
    }
   ],
   "source": [
    "# División de los datos para estimar por minimos cuadrados el moodelo del logaritmo del salario\n",
    "# en funcion de la educación, la edad y su cuadrado y las variables hombre, colonia y rivera\n",
    "# ==============================================================================\n",
    "\n",
    "df['log_salario'] = np.log(df['salario'])\n",
    "df['sq_edad'] = np.square(df['edad'])\n",
    "\n",
    "X = df[['educ', 'edad', 'sq_edad', 'hombre', 'colonia', 'rivera']]\n",
    "y = df['log_salario']\n",
    "\n",
    "# Creación del modelo utilizando matrices como en scikitlearn\n",
    "# ==============================================================================\n",
    "# A la matriz de predictores se le tiene que añadir una columna de 1s para el intercept del modelo\n",
    "\n",
    "X = sm.add_constant(X)\n",
    "modelo = sm.OLS(y, X)\n",
    "modelo = modelo.fit()\n",
    "print(modelo.summary())"
   ]
  },
  {
   "cell_type": "markdown",
   "metadata": {},
   "source": [
    "2. Interpretacion de los coeficientes:\n",
    "\n",
    "- Sobre la educacion podemos decir que por cada año mas de educacion que se tenga, el salario por hora aumenta en promedio 11.02%, ceteris paribus.\n",
    "- Sobre la edad, podemos decir que por cada año mas que se tenga, el salario por hora aumenta en promedio 6.6%, ceteris paribus. // VERIFICAR ESTO //\n",
    "- Sobre la variable hombre, podemos decir que si es hombre, el salario por hora es en promedio 25.07% mayor, ceteris paribus.\n",
    "- Sobre la variable colonia, podemos decir que si vive en Colonia, el salario por hora es en promedio 8.85% mayor, ceteris paribus.\n",
    "- Sobre la variable rivera, podemos decir que si vive en Rivera, el salario por hora es en promedio 13.5% menor, ceteris paribus."
   ]
  },
  {
   "cell_type": "code",
   "execution_count": 10,
   "metadata": {},
   "outputs": [
    {
     "name": "stdout",
     "output_type": "stream",
     "text": [
      "{'Test Statistic': 48.2566407445742, 'Test Statistic p-value': 0.0010034522402431274, 'F-Statistic': 2.2234337866715546, 'F-Test p-value': 0.0009188270152978766}\n"
     ]
    }
   ],
   "source": [
    "# Realizamos el test de White para chequear la heterocedasticidad\n",
    "# ==============================================================================\n",
    "# El test de White es un test de hipótesis que se utiliza para comprobar si los residuos de un modelo de regresión lineal son homocedásticos o heterocedásticos.\n",
    "\n",
    "white_test = het_white(modelo.resid,  modelo.model.exog)\n",
    "\n",
    "# Definimos las etiquetas para los resultados del test de White\n",
    "\n",
    "labels = ['Test Statistic', 'Test Statistic p-value', 'F-Statistic', 'F-Test p-value']\n",
    "\n",
    "#Imprimimos los resultados del test de White\n",
    "\n",
    "print(dict(zip(labels, white_test)))"
   ]
  },
  {
   "cell_type": "markdown",
   "metadata": {},
   "source": [
    "3. Heterocedasticidad y Test de White\n",
    "\n",
    "- El estadistico de prueba es X<sup>2</sup> = 48.25 y el p-valor es 0.001, por lo que rechazamos la hipotesis nula de que no hay heterocedasticidad general.\n",
    "- El test de White nos muestra que hay heterocedasticidad general, por lo que debemos utilizar el modelo de regresion lineal con errores heterocedasticos.\n",
    "\n",
    "- El test de White usa las siguientes hipotesis:\n",
    "\n",
    "    - Nula (H<sub>0</sub>): Hay homocedasticidad (los errores son homocedasticos, se dispersan de igual manera).\n",
    "    - Alternativa (H<sub>A</sub>): Hay heterocedasticidad (los errores son heterocedasticos, se dispersan de manera no homogenea).\n",
    "\n",
    "- Como el p-valor es menor a 0.05, rechazamos la hipotesis nula y aceptamos la alternativa, por lo que hay heterocedasticidad general en el modelo."
   ]
  },
  {
   "cell_type": "code",
   "execution_count": 15,
   "metadata": {},
   "outputs": [
    {
     "name": "stdout",
     "output_type": "stream",
     "text": [
      "                            OLS Regression Results                            \n",
      "==============================================================================\n",
      "Dep. Variable:            log_salario   R-squared:                       0.329\n",
      "Model:                            OLS   Adj. R-squared:                  0.327\n",
      "Method:                 Least Squares   F-statistic:                     144.4\n",
      "Date:                Mon, 26 Sep 2022   Prob (F-statistic):          6.39e-151\n",
      "Time:                        18:25:29   Log-Likelihood:                -1985.3\n",
      "No. Observations:                1898   AIC:                             3985.\n",
      "Df Residuals:                    1891   BIC:                             4023.\n",
      "Df Model:                           6                                         \n",
      "Covariance Type:                  HC3                                         \n",
      "==============================================================================\n",
      "                 coef    std err          t      P>|t|      [0.025      0.975]\n",
      "------------------------------------------------------------------------------\n",
      "const          0.5774      0.280      2.063      0.039       0.028       1.126\n",
      "educ           0.1102      0.004     27.094      0.000       0.102       0.118\n",
      "edad           0.0660      0.012      5.466      0.000       0.042       0.090\n",
      "sq_edad       -0.0006      0.000     -4.104      0.000      -0.001      -0.000\n",
      "hombre         0.2507      0.033      7.674      0.000       0.187       0.315\n",
      "colonia        0.0885      0.089      0.999      0.318      -0.085       0.262\n",
      "rivera        -0.1359      0.112     -1.216      0.224      -0.355       0.083\n",
      "==============================================================================\n",
      "Omnibus:                       31.072   Durbin-Watson:                   2.042\n",
      "Prob(Omnibus):                  0.000   Jarque-Bera (JB):               57.685\n",
      "Skew:                          -0.042   Prob(JB):                     2.98e-13\n",
      "Kurtosis:                       3.850   Cond. No.                     3.74e+04\n",
      "==============================================================================\n",
      "\n",
      "Notes:\n",
      "[1] Standard Errors are heteroscedasticity robust (HC3)\n",
      "[2] The condition number is large, 3.74e+04. This might indicate that there are\n",
      "strong multicollinearity or other numerical problems.\n"
     ]
    }
   ],
   "source": [
    "# Modelo OLS con covarianza robusta, variante HC3, para el caso de heterocedasticidad \n",
    "\n",
    "print(modelo._results.get_robustcov_results(cov_type='HC3').summary())"
   ]
  },
  {
   "cell_type": "code",
   "execution_count": 16,
   "metadata": {},
   "outputs": [
    {
     "name": "stdout",
     "output_type": "stream",
     "text": [
      "                            WLS Regression Results                            \n",
      "==============================================================================\n",
      "Dep. Variable:            log_salario   R-squared:                       0.999\n",
      "Model:                            WLS   Adj. R-squared:                  0.999\n",
      "Method:                 Least Squares   F-statistic:                 3.135e+05\n",
      "Date:                Mon, 26 Sep 2022   Prob (F-statistic):               0.00\n",
      "Time:                        18:32:12   Log-Likelihood:                -659.46\n",
      "No. Observations:                1898   AIC:                             1333.\n",
      "Df Residuals:                    1891   BIC:                             1372.\n",
      "Df Model:                           6                                         \n",
      "Covariance Type:            nonrobust                                         \n",
      "==============================================================================\n",
      "                 coef    std err          t      P>|t|      [0.025      0.975]\n",
      "------------------------------------------------------------------------------\n",
      "const          0.5936      0.013     46.608      0.000       0.569       0.619\n",
      "educ           0.1104      0.000    631.183      0.000       0.110       0.111\n",
      "edad           0.0651      0.001    127.612      0.000       0.064       0.066\n",
      "sq_edad       -0.0006   5.55e-06   -101.194      0.000      -0.001      -0.001\n",
      "hombre         0.2496      0.002    156.545      0.000       0.246       0.253\n",
      "colonia        0.0929      0.007     12.657      0.000       0.078       0.107\n",
      "rivera        -0.1308      0.008    -16.554      0.000      -0.146      -0.115\n",
      "==============================================================================\n",
      "Omnibus:                     6842.554   Durbin-Watson:                   2.028\n",
      "Prob(Omnibus):                  0.000   Jarque-Bera (JB):              314.484\n",
      "Skew:                          -0.024   Prob(JB):                     5.14e-69\n",
      "Kurtosis:                       1.006   Cond. No.                     9.15e+04\n",
      "==============================================================================\n",
      "\n",
      "Notes:\n",
      "[1] Standard Errors assume that the covariance matrix of the errors is correctly specified.\n",
      "[2] The condition number is large, 9.15e+04. This might indicate that there are\n",
      "strong multicollinearity or other numerical problems.\n"
     ]
    }
   ],
   "source": [
    "# Probamos utilizando minimos cuadrados ponderados\n",
    "# ==============================================================================\n",
    "\n",
    "mod_wls = sm.WLS(y, X, weights=1/modelo.resid**2)\n",
    "res_wls = mod_wls.fit()\n",
    "print(res_wls.summary())"
   ]
  }
 ],
 "metadata": {
  "kernelspec": {
   "display_name": "Python 3.10.7 64-bit (microsoft store)",
   "language": "python",
   "name": "python3"
  },
  "language_info": {
   "codemirror_mode": {
    "name": "ipython",
    "version": 3
   },
   "file_extension": ".py",
   "mimetype": "text/x-python",
   "name": "python",
   "nbconvert_exporter": "python",
   "pygments_lexer": "ipython3",
   "version": "3.10.7"
  },
  "orig_nbformat": 4,
  "vscode": {
   "interpreter": {
    "hash": "ddf43d0a998ee782db49a9d8576a36bcec62d27a129f64086cd665a131718c48"
   }
  }
 },
 "nbformat": 4,
 "nbformat_minor": 2
}
