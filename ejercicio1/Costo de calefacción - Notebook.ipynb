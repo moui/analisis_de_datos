{
 "cells": [
  {
   "cell_type": "markdown",
   "metadata": {},
   "source": [
    "# Analisis de Datos en Administracion\n",
    "### Facultad de Ciencias Economicas y Administracion - Universidad de la Republica\n",
    "\n",
    "# Regresion Lineal\n",
    "## Ejercicio 1"
   ]
  },
  {
   "cell_type": "markdown",
   "metadata": {},
   "source": [
    "Una Agencia Inmobiliaria vende casas en la costa. Una de las preguntas mas frecuentes de los compradores potenciales es: ¿Si compramos esta casa o no?, ¿cuanto gastaremos en calefaccion durante el invierno? Al departamento de investigacion de la Agencia se le pidio desarrollar algunas directrices respecto de los costos de calefaccion de casas unifamiliares. \n",
    "\n",
    "Se considera que cuatro variables claves inciden en dichos costos:\n",
    "1. la temperatura externa diaria media\n",
    "2. el numero de pulgadas de aislamiento en el atico\n",
    "3. los anos de uso del calentador\n",
    "4. la distancia de la playa a la casa\n"
   ]
  },
  {
   "cell_type": "markdown",
   "metadata": {},
   "source": [
    "Para el estudio, el departamento de investigacion selecciono una muestra aleatoria de 45 casas de venta reciente. Determino el costo de calefaccion de cada casa en enero pasado, asi como la temperatura externa en enero en la region, el numero de pulgadas de aislamiento del atico, los anos de uso del calentador y la distancia a la playa. \n",
    "\n",
    "El primer paso es definir la variable dependiente y las variables independientes. La variable dependiente (Y) es el costo de calefaccion en enero. Hay cinco variables independientes: \n",
    "- La temperatura externa media en enero, representada por X<sub>1</sub>. \n",
    "- El numero de pulgadas de aislamiento del atico, representado por X<sub>2</sub>.\n",
    "- La antiguedad en anos del calentador, representada por X<sub>3</sub>.\n",
    "- La disponibilidad de Garage en la Casa, representada por X<sub>4</sub>.\n",
    "- La distancia a la playa en mts, representada por X<sub>5</sub>.\n",
    "\n",
    "El segundo paso es definir la forma general de la ecuacion de regresion multiple: \n",
    "\n",
    " <center> Y = α + β<sub>1</sub>X<sub>1</sub> + β<sub>2</sub>X<sub>2</sub> + β<sub>3</sub>X<sub>3</sub> + β<sub>4</sub>X<sub>4</sub> + β<sub>5</sub>X<sub>5</sub> + u  </center>\n",
    "\n",
    "El tercer paso es estimar los parametros del siguiente modelo de regresion lineal multiple a partir de los datos disponibles en el archivo \"Costo de calefaccion - Base de datos.csv”.\n"
   ]
  },
  {
   "cell_type": "markdown",
   "metadata": {},
   "source": [
    "#### Se pide:\n",
    "1. ¿Cual es el criterio para definir las variables independiente y la variable dependiente en el modelo propuesto?\n",
    "2. ¿Es significativo el modelo globalmente, en su conjunto?\n",
    "3. ¿Cuales variables son significativas individualmente?\n",
    "4. En el caso de que alguna variable no sea significativa, estime el modelo nuevamente sin la variable en cuestion.\n",
    "5. ¿Como interpretaria el coeficiente de la variable temperatura y el coeficiente de la variable garage?\n",
    "6. Convierta a dolares el costo de calefaccion y estime nuevamente el modelo. ¿Que pasa con los coeficientes estimados del modelo?\n",
    "7. Pase la variable antiguedad a meses y estime nuevamente el modelo. ¿ Hay algun cambio en los coeficientes estimados?"
   ]
  },
  {
   "cell_type": "markdown",
   "metadata": {},
   "source": [
    "#### Corremos el modelo:"
   ]
  },
  {
   "cell_type": "code",
   "execution_count": 2,
   "metadata": {},
   "outputs": [],
   "source": [
    "# Tratamiento de datos\n",
    "# ==============================================================================\n",
    "import pandas as pd\n",
    "\n",
    "# Preprocesado y modelado\n",
    "# ==============================================================================\n",
    "import statsmodels.api as sm\n",
    "import statsmodels.formula.api as smf"
   ]
  },
  {
   "cell_type": "code",
   "execution_count": 3,
   "metadata": {},
   "outputs": [
    {
     "name": "stdout",
     "output_type": "stream",
     "text": [
      "   costo  temperatura  aislamiento  antiguedad  garage  distancia\n",
      "0    250           35            3           6       0       7972\n",
      "1    360           29            4          10       1       8003\n",
      "2    165           36            7           3       0      15336\n",
      "3     43           60            6           9       0       8133\n",
      "4     92           65            5           6       0       5902\n"
     ]
    }
   ],
   "source": [
    "# Datos\n",
    "# ==============================================================================\n",
    "\n",
    "df = pd.read_csv('Costo de calefacción - Base de datos.csv')\n",
    "print(df.head())"
   ]
  },
  {
   "cell_type": "code",
   "execution_count": 6,
   "metadata": {},
   "outputs": [
    {
     "name": "stdout",
     "output_type": "stream",
     "text": [
      "                            OLS Regression Results                            \n",
      "==============================================================================\n",
      "Dep. Variable:                  costo   R-squared:                       0.837\n",
      "Model:                            OLS   Adj. R-squared:                  0.817\n",
      "Method:                 Least Squares   F-statistic:                     40.17\n",
      "Date:                Fri, 23 Sep 2022   Prob (F-statistic):           2.28e-14\n",
      "Time:                        17:59:45   Log-Likelihood:                -224.15\n",
      "No. Observations:                  45   AIC:                             460.3\n",
      "Df Residuals:                      39   BIC:                             471.1\n",
      "Df Model:                           5                                         \n",
      "Covariance Type:            nonrobust                                         \n",
      "===============================================================================\n",
      "                  coef    std err          t      P>|t|      [0.025      0.975]\n",
      "-------------------------------------------------------------------------------\n",
      "const         328.0203     44.929      7.301      0.000     237.142     418.899\n",
      "garage         75.5840     11.537      6.551      0.000      52.248      98.920\n",
      "distancia      -0.0001      0.002     -0.049      0.961      -0.004       0.004\n",
      "antiguedad      6.6440      2.461      2.700      0.010       1.667      11.621\n",
      "aislamiento   -10.3740      2.375     -4.368      0.000     -15.179      -5.570\n",
      "temperatura    -3.6881      0.493     -7.476      0.000      -4.686      -2.690\n",
      "==============================================================================\n",
      "Omnibus:                        5.692   Durbin-Watson:                   2.324\n",
      "Prob(Omnibus):                  0.058   Jarque-Bera (JB):                2.966\n",
      "Skew:                          -0.389   Prob(JB):                        0.227\n",
      "Kurtosis:                       2.013   Cond. No.                     8.13e+04\n",
      "==============================================================================\n",
      "\n",
      "Notes:\n",
      "[1] Standard Errors assume that the covariance matrix of the errors is correctly specified.\n",
      "[2] The condition number is large, 8.13e+04. This might indicate that there are\n",
      "strong multicollinearity or other numerical problems.\n"
     ]
    }
   ],
   "source": [
    "# División de los datos\n",
    "# ==============================================================================\n",
    "\n",
    "X = df[['garage', 'distancia', 'antiguedad', 'aislamiento', 'temperatura']]\n",
    "y = df['costo']\n",
    "\n",
    "# Creación del modelo utilizando matrices como en scikitlearn\n",
    "# ==============================================================================\n",
    "# A la matriz de predictores se le tiene que añadir una columna de 1s para el intercept del modelo\n",
    "\n",
    "X = sm.add_constant(X)\n",
    "modelo = sm.OLS(y, X)\n",
    "modelo = modelo.fit()\n",
    "print(modelo.summary())\n",
    "\n"
   ]
  },
  {
   "cell_type": "markdown",
   "metadata": {},
   "source": [
    "### Resolucion:\n",
    "\n",
    "1. Interesa saber cuanto se gasta de calefaccion, por lo tanto la variable dependiente sera el costo de la calefaccion, en funcion de el resto de las variables. Las variables independientes seran la temperatura, el aislamiento, la antiguedad de la casa, la disponibilidad de garage y la distancia a la playa.\n",
    "\n",
    "2. El modelo es significativo globalmente, ya que el p-valor es menor a 0.05.\n",
    "\n",
    "3. Las variables que son significativas individualmente son la temperatura, el aislamiento, la antiguedad y la disponibilidad de garage. El p-valor de la variable distancia a la playa es mayor a 0.05, por lo tanto no es significativa.\n",
    "\n",
    "4. Corremos el modelo nuevamente eliminanod las variables no significativas. El modelo al eliminar la variable distancia a la playa es significativo globalmente, ya que el p-valor es menor a 0.05."
   ]
  },
  {
   "cell_type": "code",
   "execution_count": 7,
   "metadata": {},
   "outputs": [
    {
     "name": "stdout",
     "output_type": "stream",
     "text": [
      "                            OLS Regression Results                            \n",
      "==============================================================================\n",
      "Dep. Variable:                  costo   R-squared:                       0.837\n",
      "Model:                            OLS   Adj. R-squared:                  0.821\n",
      "Method:                 Least Squares   F-statistic:                     51.50\n",
      "Date:                Fri, 23 Sep 2022   Prob (F-statistic):           2.96e-15\n",
      "Time:                        18:04:27   Log-Likelihood:                -224.15\n",
      "No. Observations:                  45   AIC:                             458.3\n",
      "Df Residuals:                      40   BIC:                             467.3\n",
      "Df Model:                           4                                         \n",
      "Covariance Type:            nonrobust                                         \n",
      "===============================================================================\n",
      "                  coef    std err          t      P>|t|      [0.025      0.975]\n",
      "-------------------------------------------------------------------------------\n",
      "const         326.7567     36.308      9.000      0.000     253.376     400.137\n",
      "garage         75.5029     11.274      6.697      0.000      52.717      98.289\n",
      "antiguedad      6.6809      2.313      2.889      0.006       2.006      11.355\n",
      "aislamiento   -10.3769      2.345     -4.426      0.000     -15.116      -5.638\n",
      "temperatura    -3.6868      0.486     -7.579      0.000      -4.670      -2.704\n",
      "==============================================================================\n",
      "Omnibus:                        5.544   Durbin-Watson:                   2.323\n",
      "Prob(Omnibus):                  0.063   Jarque-Bera (JB):                2.942\n",
      "Skew:                          -0.391   Prob(JB):                        0.230\n",
      "Kurtosis:                       2.022   Cond. No.                         272.\n",
      "==============================================================================\n",
      "\n",
      "Notes:\n",
      "[1] Standard Errors assume that the covariance matrix of the errors is correctly specified.\n"
     ]
    }
   ],
   "source": [
    "# Corremos el modelo nuevamente para el punto 4.\n",
    "# ==============================================================================\n",
    "\n",
    "X = df[['garage', 'antiguedad', 'aislamiento', 'temperatura']]\n",
    "y = df['costo']\n",
    "\n",
    "# Creación del modelo utilizando matrices como en scikitlearn\n",
    "# ==============================================================================\n",
    "# A la matriz de predictores se le tiene que añadir una columna de 1s para el intercept del modelo\n",
    "\n",
    "X = sm.add_constant(X)\n",
    "modelo = sm.OLS(y, X)\n",
    "modelo = modelo.fit()\n",
    "print(modelo.summary())"
   ]
  },
  {
   "cell_type": "markdown",
   "metadata": {},
   "source": [
    "5. El coeficiente de la variable temperatura indica que por cada grado que aumenta la temperatura, el costo de calefaccion disminuye en promedio 3.68 pesos, ceteris paribus. El coeficiente de la variable garage indica que si la casa tiene garage, el costo de calefaccion es 75 pesos mas costosa en promedio, ceteris paribus.\n",
    "\n",
    "6. Convertimos a dolares el costo de la calefaccion y corremos el modelo nuevamente. Los coeficientes estimados del modelo cambian en la misma proporcion, dividido 40, tomando el dolar a ese precio."
   ]
  },
  {
   "cell_type": "code",
   "execution_count": 9,
   "metadata": {},
   "outputs": [
    {
     "name": "stdout",
     "output_type": "stream",
     "text": [
      "                            OLS Regression Results                            \n",
      "==============================================================================\n",
      "Dep. Variable:                  costo   R-squared:                       0.837\n",
      "Model:                            OLS   Adj. R-squared:                  0.821\n",
      "Method:                 Least Squares   F-statistic:                     51.50\n",
      "Date:                Fri, 23 Sep 2022   Prob (F-statistic):           2.96e-15\n",
      "Time:                        18:22:54   Log-Likelihood:                -58.147\n",
      "No. Observations:                  45   AIC:                             126.3\n",
      "Df Residuals:                      40   BIC:                             135.3\n",
      "Df Model:                           4                                         \n",
      "Covariance Type:            nonrobust                                         \n",
      "===============================================================================\n",
      "                  coef    std err          t      P>|t|      [0.025      0.975]\n",
      "-------------------------------------------------------------------------------\n",
      "const           8.1689      0.908      9.000      0.000       6.334      10.003\n",
      "garage          1.8876      0.282      6.697      0.000       1.318       2.457\n",
      "antiguedad      0.1670      0.058      2.889      0.006       0.050       0.284\n",
      "aislamiento    -0.2594      0.059     -4.426      0.000      -0.378      -0.141\n",
      "temperatura    -0.0922      0.012     -7.579      0.000      -0.117      -0.068\n",
      "==============================================================================\n",
      "Omnibus:                        5.544   Durbin-Watson:                   2.323\n",
      "Prob(Omnibus):                  0.063   Jarque-Bera (JB):                2.942\n",
      "Skew:                          -0.391   Prob(JB):                        0.230\n",
      "Kurtosis:                       2.022   Cond. No.                         272.\n",
      "==============================================================================\n",
      "\n",
      "Notes:\n",
      "[1] Standard Errors assume that the covariance matrix of the errors is correctly specified.\n"
     ]
    }
   ],
   "source": [
    "# Corremos el modelo nuevamente para el punto 6.\n",
    "# ==============================================================================\n",
    "\n",
    "X = df[['garage', 'antiguedad', 'aislamiento', 'temperatura']]\n",
    "y = df['costo']\n",
    "\n",
    "# Creación del modelo utilizando matrices como en scikitlearn\n",
    "# ==============================================================================\n",
    "# A la matriz de predictores se le tiene que añadir una columna de 1s para el intercept del modelo\n",
    "\n",
    "X = sm.add_constant(X)\n",
    "y_dol = y.div(40)\n",
    "modelo = sm.OLS(y_dol, X)\n",
    "modelo = modelo.fit()\n",
    "print(modelo.summary())"
   ]
  },
  {
   "cell_type": "markdown",
   "metadata": {},
   "source": [
    "7. Convertimos la antiguedad de la casa a meses y corremos el modelo nuevamente. Los coeficientes estimados del modelo no cambian porque multiplicar por 12 se trata de una transformacion lineal. El costo de la calefaccion sigue estando expresado en pesos anuales."
   ]
  },
  {
   "cell_type": "code",
   "execution_count": 17,
   "metadata": {},
   "outputs": [
    {
     "name": "stdout",
     "output_type": "stream",
     "text": [
      "                            OLS Regression Results                            \n",
      "==============================================================================\n",
      "Dep. Variable:                  costo   R-squared:                       0.837\n",
      "Model:                            OLS   Adj. R-squared:                  0.821\n",
      "Method:                 Least Squares   F-statistic:                     51.50\n",
      "Date:                Fri, 23 Sep 2022   Prob (F-statistic):           2.96e-15\n",
      "Time:                        18:42:48   Log-Likelihood:                -224.15\n",
      "No. Observations:                  45   AIC:                             458.3\n",
      "Df Residuals:                      40   BIC:                             467.3\n",
      "Df Model:                           4                                         \n",
      "Covariance Type:            nonrobust                                         \n",
      "===============================================================================\n",
      "                  coef    std err          t      P>|t|      [0.025      0.975]\n",
      "-------------------------------------------------------------------------------\n",
      "const         326.7567     36.308      9.000      0.000     253.376     400.137\n",
      "garage         75.5029     11.274      6.697      0.000      52.717      98.289\n",
      "aislamiento   -10.3769      2.345     -4.426      0.000     -15.116      -5.638\n",
      "antiguedad      0.5567      0.193      2.889      0.006       0.167       0.946\n",
      "temperatura    -3.6868      0.486     -7.579      0.000      -4.670      -2.704\n",
      "==============================================================================\n",
      "Omnibus:                        5.544   Durbin-Watson:                   2.323\n",
      "Prob(Omnibus):                  0.063   Jarque-Bera (JB):                2.942\n",
      "Skew:                          -0.391   Prob(JB):                        0.230\n",
      "Kurtosis:                       2.022   Cond. No.                         630.\n",
      "==============================================================================\n",
      "\n",
      "Notes:\n",
      "[1] Standard Errors assume that the covariance matrix of the errors is correctly specified.\n"
     ]
    }
   ],
   "source": [
    "# Corremos el modelo nuevamente para el punto 6.\n",
    "# ==============================================================================\n",
    "df['antiguedad'] = df['antiguedad'].apply(lambda x: x*12)\n",
    "X = df[['garage', 'aislamiento', 'antiguedad', 'temperatura']]\n",
    "y = df['costo']\n",
    "\n",
    "# Creación del modelo utilizando matrices como en scikitlearn\n",
    "# ==============================================================================\n",
    "# A la matriz de predictores se le tiene que añadir una columna de 1s para el intercept del modelo\n",
    "\n",
    "X = sm.add_constant(X)\n",
    "modelo = sm.OLS(y, X)\n",
    "modelo = modelo.fit()\n",
    "print(modelo.summary())"
   ]
  }
 ],
 "metadata": {
  "kernelspec": {
   "display_name": "Python 3.10.7 64-bit (microsoft store)",
   "language": "python",
   "name": "python3"
  },
  "language_info": {
   "codemirror_mode": {
    "name": "ipython",
    "version": 3
   },
   "file_extension": ".py",
   "mimetype": "text/x-python",
   "name": "python",
   "nbconvert_exporter": "python",
   "pygments_lexer": "ipython3",
   "version": "3.10.7"
  },
  "orig_nbformat": 4,
  "vscode": {
   "interpreter": {
    "hash": "ddf43d0a998ee782db49a9d8576a36bcec62d27a129f64086cd665a131718c48"
   }
  }
 },
 "nbformat": 4,
 "nbformat_minor": 2
}
